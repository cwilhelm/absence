{
 "cells": [
  {
   "cell_type": "code",
   "execution_count": null,
   "metadata": {
    "collapsed": true,
    "pycharm": {
     "name": "#%%\n"
    }
   },
   "outputs": [],
   "source": [
    "#!/usr/bin/env python\n",
    "\n",
    "h_id='asdf'\n",
    "h_key='asdf'\n",
    "\n",
    "import json.decoder\n",
    "from datetime import date\n",
    "from requests_hawk import HawkAuth\n",
    "import requests\n",
    "\n",
    "\n",
    "base_url = 'https://app.absence.io/api/v2'\n",
    "hawk = HawkAuth(id=h_id, key=h_key)\n",
    "start_date = date(2018, 1, 1)\n",
    "paging = 180\n",
    "\n",
    "\n",
    "def main():\n",
    "    debug_info = []\n",
    "    url = '{}/{}'.format(base_url, 'absences')\n",
    "    data = {\n",
    "        \"relations\": [\"assignedToId\", \"reasonId\"],\n",
    "        \"filter\": {\n",
    "            'start': {\"$gte\": str(start_date)}\n",
    "        },\n",
    "        \"responseModel\": \"Calendar\",\n",
    "        \"sortBy\": {\"startDateTime\": 1},\n",
    "        \"limit\": paging\n",
    "    }\n",
    "    has_next = True\n",
    "    result = {}\n",
    "    skip = 0\n",
    "    while has_next:\n",
    "        print('---')\n",
    "        data['skip'] = skip\n",
    "        print(data)\n",
    "        response = requests.post(url, json=data, auth=hawk)\n",
    "        try:\n",
    "            json_data = response.json()\n",
    "        except json.decoder.JSONDecodeError as e:\n",
    "            print(e)\n",
    "            print(response)\n",
    "        if response.status_code != 200:\n",
    "            has_next = False\n",
    "        limit = json_data['limit']\n",
    "        count = json_data['count']\n",
    "        skip = json_data['skip'] + count\n",
    "        if count < limit:\n",
    "            has_next = False\n",
    "        for response_data in json_data['data']:\n",
    "            absence_id = response_data['_id']\n",
    "            if absence_id in result:\n",
    "                print('absence_id {} already in result !'.format(absence_id))\n",
    "                i = 0\n",
    "                for d in debug_info:\n",
    "                    if d == absence_id:\n",
    "                        print('\\twas at position {}'.format(i+1))\n",
    "                    i=i+1\n",
    "            result[absence_id] = response_data\n",
    "            debug_info.append(absence_id)\n",
    "        print('len(result): {}'.format(len(result)))\n",
    "    return result\n",
    "\n",
    "\n",
    "if __name__ == '__main__':\n",
    "    main()\n"
   ]
  }
 ],
 "metadata": {
  "kernelspec": {
   "display_name": "Python 3",
   "language": "python",
   "name": "python3"
  },
  "language_info": {
   "codemirror_mode": {
    "name": "ipython",
    "version": 2
   },
   "file_extension": ".py",
   "mimetype": "text/x-python",
   "name": "python",
   "nbconvert_exporter": "python",
   "pygments_lexer": "ipython2",
   "version": "2.7.6"
  }
 },
 "nbformat": 4,
 "nbformat_minor": 0
}